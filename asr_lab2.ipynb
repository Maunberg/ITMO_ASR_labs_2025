{
 "cells": [
  {
   "cell_type": "markdown",
   "id": "04d0eabe",
   "metadata": {},
   "source": [
    "# Языковые модели\n",
    "\n",
    "Языковые модели играют важную роль в системах распознавания речи, помогая создавать более грамотные и лексически корректные тексты. В данной работе мы будем изучать нграмные языковые модели, которые позволяют довольно легко оценить вероятность и правдоподобность текста.\n",
    "\n",
    "В нграмной языковой модели, нграм - это последовательность из n слов в тексте. Например, в предложении \"по-моему мы сэкономим уйму времени если я сойду с ума прямо сейчас\", биграмами будут \"по-моему мы\", \"мы сэкономим\", \"сэкономим уйму\" итд. Языковые модели оценивают вероятность появления последовательности слов, исходя из статистики появления каждого из нграм в обучающей выборке.\n",
    "\n",
    "Порядком (order) нграм языковой модели называют максимальную длину нграм, которую учитывает модель. \n",
    "\n",
    "Практическая работа разделена на 2 части: \n",
    "1. Построение нграмой языковой модели - основная часть, 10 баллов\n",
    "1. Предсказание с помощью языковой модели - дополнительная часть, 6 балла\n",
    "\n",
    "\n",
    "\n",
    "Полезные сслыки:\n",
    "* arpa формат - https://cmusphinx.github.io/wiki/arpaformat/\n",
    "* обучающие материалы - resources/lab2/lecture13_ngrams_with_SRILM.pdf\n",
    "* обучающие материалы.2 - https://cjlise.github.io/machine-learning/N-Gram-Language-Model/"
   ]
  },
  {
   "cell_type": "code",
   "execution_count": 5,
   "id": "4bd5c324",
   "metadata": {},
   "outputs": [],
   "source": [
    "import numpy as np\n",
    "from collections import defaultdict\n",
    "from typing import List, Dict, Tuple"
   ]
  },
  {
   "cell_type": "markdown",
   "id": "b0c1c1d7",
   "metadata": {},
   "source": [
    "# 1. Построение нграмной языковой модели. (10 баллов)\n",
    "\n",
    "\n",
    "Вероятность текста с помощью нграмной языковой модели можно вычислить по формуле: \n",
    "$$ P(w_1, w_2, .., w_n) = {\\prod{{P_{i=0}^{n}(w_i| w_{i-order}, .., w_{i-1})}}} $$\n",
    "\n",
    "В простом виде, при обучении нграмной языковой модели, чтобы рассчитать условную вероятность каждой нграмы, используется формула, основанная на количестве появлений нграмы в обучающей выборке. Формула выглядит следующим образом:\n",
    "$$ P(w_i| w_{i-order}, .., w_{i-1}) = {{count(w_{i-order}, .., w_{i})} \\over {count(w_{i-order},..., w_{i-1})}} $$\n",
    "\n",
    "Поскольку униграмы не содержат в себе какого-дибо контекста, вероятность униграмы можно посчитать поделив кол-во этой слова на общее количество слов в обучающей выборке. \n"
   ]
  },
  {
   "cell_type": "code",
   "execution_count": null,
   "id": "5837fe90",
   "metadata": {},
   "outputs": [],
   "source": [
    "import re\n",
    "# в первую очередь нам понадобится подсчитать статистику по обучающей выборке \n",
    "def count_ngrams(train_text: List[str], order=3, bos=True, eos=True) -> Dict[Tuple[str], int]:\n",
    "    ngrams = defaultdict(int)\n",
    "    text = train_text\n",
    "    if bos:\n",
    "        text = [' BOS '+ i for i in text]\n",
    "    if eos:\n",
    "        text = [i + ' EOS ' for i in text]\n",
    "    text = ' '.join(text)\n",
    "    text = re.sub(r'[^\\w\\s-]', ' ', text.lower())\n",
    "    text = [word.replace('bos', '<s>').replace('eos', '</s>') for word in text.split() if word and word != '-']\n",
    "    for sorder in range(order+1):\n",
    "        for i in range(len(text) - sorder + 1):\n",
    "            w = tuple(text[i:i+sorder])\n",
    "            if w:\n",
    "                ngrams[w] += 1\n",
    "    return dict(ngrams)"
   ]
  },
  {
   "cell_type": "code",
   "execution_count": 7,
   "id": "fd69d44d",
   "metadata": {},
   "outputs": [
    {
     "name": "stdout",
     "output_type": "stream",
     "text": [
      "Test 1a passed\n"
     ]
    }
   ],
   "source": [
    "def test_count_ngrams():\n",
    "    assert count_ngrams(['привет привет как дела'], order=1, bos=True, eos=True) == {\n",
    "        ('<s>',): 1, \n",
    "        ('привет',): 2, \n",
    "        ('как',): 1, \n",
    "        ('дела',): 1, \n",
    "        ('</s>',): 1\n",
    "    }\n",
    "    assert count_ngrams(['привет привет как дела'], order=1, bos=False, eos=True) == {\n",
    "        ('привет',): 2, \n",
    "        ('как',): 1, \n",
    "        ('дела',): 1, \n",
    "        ('</s>',): 1\n",
    "    }\n",
    "    assert count_ngrams(['привет привет как дела'], order=1, bos=False, eos=False) == {\n",
    "        ('привет',): 2, \n",
    "        ('как',): 1, \n",
    "        ('дела',): 1\n",
    "    }\n",
    "    assert count_ngrams(['привет привет как дела'], order=2, bos=False, eos=False) == {\n",
    "        ('привет',): 2, \n",
    "        ('как',): 1, \n",
    "        ('дела',): 1,\n",
    "        ('привет', 'привет'): 1,\n",
    "        ('привет', 'как'): 1,\n",
    "        ('как', 'дела'): 1\n",
    "    }    \n",
    "    assert count_ngrams(['привет ' * 6], order=2, bos=False, eos=False) == {\n",
    "        ('привет',): 6, \n",
    "        ('привет', 'привет'): 5\n",
    "    }\n",
    "    result = count_ngrams(['практическое сентября',\n",
    "                           'второе практическое занятие пройдет в офлайне 32 сентября в 12 часов 32 минуты',\n",
    "                           'в офлайне в 32 12'], order=5)\n",
    "    assert result[('<s>',)] == 3\n",
    "    assert result[('32',)] == 3\n",
    "    assert result[('<s>', 'в', 'офлайне', 'в', '32')] == 1\n",
    "    assert result[('офлайне', 'в', '32', '12', '</s>')] == 1\n",
    "    print('Test 1a passed')\n",
    "    \n",
    "    \n",
    "test_count_ngrams()  "
   ]
  },
  {
   "cell_type": "markdown",
   "id": "ac6e1865",
   "metadata": {},
   "source": [
    "\n",
    "Простой подход к вычислению вероятностей через количество нграм имеет существенный недостаток. Если в тексте встретится нграмма, которой не было в обучающей выборке, то вероятность всего текста будет равна нулю. \n",
    "\n",
    "Чтобы избежать данного недостатка, вводится специальное сглаживание - add-k сглаживание ([Additive, Laplace smoothing](https://en.wikipedia.org/wiki/Additive_smoothing)). Данная техника позволяет учитывать нграмы, не встретившиеся в обучающей выборке, и при этом не делает вероятность текста равной нулю.\n",
    "\n",
    "Формула сглаживания Лапласа выглядит следующим образом:\n",
    "\n",
    "$$ P(w_i| w_{i-order}, .., w_{i-1}) = {{count(w_{i-order}, .., w_{i}) + k} \\over {count(w_{i-order},..., w_{i-1}) + k*V}} $$\n",
    "\n",
    "Здесь V - количество слов в словаре, а k - гиперпараметр, который контролирует меру сглаживания. Как правило, значение k выбирается экспериментально, чтобы найти оптимальный баланс между учетом редких нграм и сохранением вероятности для часто встречающихся нграм.\n"
   ]
  },
  {
   "cell_type": "code",
   "execution_count": 10,
   "id": "82161eba",
   "metadata": {},
   "outputs": [],
   "source": [
    "# Fixed function to avoid unreachable code\n",
    "def calculate_ngram_prob(ngram: Tuple[str], counts: Dict[Tuple[str], int], V=None, k=0) -> float:\n",
    "    if V is None:\n",
    "        V = len([i for i in counts.keys() if len(i) == 1])\n",
    "    if len(ngram) == 1:\n",
    "        total_tokens = sum([count for key, count in counts.items() if len(key) == 1])\n",
    "        if total_tokens == 0 and k == 0:\n",
    "            prob = 0.0\n",
    "        else:\n",
    "            prob = (counts.get(ngram, 0) + k) / (total_tokens + k * V)\n",
    "    else:\n",
    "        context = ngram[:-1]\n",
    "        context_count = counts.get(context, 0)\n",
    "        if context_count == 0 and k == 0:\n",
    "            prob = 0.0\n",
    "        else:\n",
    "            prob = (counts.get(ngram, 0) + k) / (context_count + k * V)\n",
    "    return prob"
   ]
  },
  {
   "cell_type": "code",
   "execution_count": 11,
   "id": "60b25d7f",
   "metadata": {},
   "outputs": [
    {
     "name": "stdout",
     "output_type": "stream",
     "text": [
      "Test 1.b passed\n"
     ]
    }
   ],
   "source": [
    "def test_calculate_ngram_prob():\n",
    "    counts = count_ngrams(['практическое сентября',\n",
    "                           'второе практическое занятие в офлайне 32 сентября в 12 часов 32 минуты',\n",
    "                           'в офлайне в 32 12'], order=4)\n",
    "    assert calculate_ngram_prob(('в', 'офлайне'), counts) == 0.5\n",
    "    assert calculate_ngram_prob(('в', ), counts) == 4/25\n",
    "    assert calculate_ngram_prob(('в', ), counts, k=0.5) == (4+0.5)/(25+0.5*12)\n",
    "    assert calculate_ngram_prob(('в', 'офлайне', 'в', '32'), counts) == 1.0\n",
    "    assert calculate_ngram_prob(('в', 'офлайне'), counts, k=1) == 0.1875\n",
    "    assert calculate_ngram_prob(('в', 'офлайне'), counts, k=0.5) == 0.25\n",
    "    assert calculate_ngram_prob(('в', 'онлайне'), counts, k=0) == 0.0\n",
    "    assert calculate_ngram_prob(('в', 'онлайне'), counts, k=1) == 0.0625\n",
    "    assert calculate_ngram_prob(('в', 'офлайне'), counts, k=0.5) == 0.25\n",
    "\n",
    "    print(\"Test 1.b passed\")\n",
    "    \n",
    "\n",
    "test_calculate_ngram_prob()  "
   ]
  },
  {
   "cell_type": "markdown",
   "id": "da494bf0",
   "metadata": {},
   "source": [
    "Основной метрикой язковых моделей является перплексия. \n",
    "\n",
    "Перплексия  — безразмерная величина, мера того, насколько хорошо распределение вероятностей предсказывает выборку. Низкий показатель перплексии указывает на то, что распределение вероятности хорошо предсказывает выборку.\n",
    "\n",
    "$$ ppl = {P(w_1, w_2 ,..., w_N)^{- {1} \\over {N}}} $$\n"
   ]
  },
  {
   "cell_type": "code",
   "execution_count": null,
   "id": "4bd1f2e5",
   "metadata": {},
   "outputs": [],
   "source": [
    "class NgramLM:\n",
    "    def __init__(self, order=3, bos=True, eos=True, k=1, predefined_vocab=None):\n",
    "        self.order = order\n",
    "        self.eos = eos\n",
    "        self.bos = bos\n",
    "        self.k = k\n",
    "        self.vocab = predefined_vocab\n",
    "        self.ngrams_count = None\n",
    "        \n",
    "    @property\n",
    "    def V(self) -> int:\n",
    "        return len(self.vocab)\n",
    "    \n",
    "    def fit(self, train_text: List[str]) -> None:\n",
    "        self.ngrams_count = count_ngrams(train_text, order=self.order, bos=self.bos, eos=self.eos)\n",
    "        self.vocab = [i for i in self.ngrams_count.keys() if len(i) == 1]\n",
    "\n",
    "    def text_clean(self, text: List[str]) -> List[str]:\n",
    "        text_str = ' '.join(text)\n",
    "        text_str = re.sub(r'[^\\w\\s-]', ' ', text_str.lower())\n",
    "        words = [word.replace('bos', '<s>').replace('eos', '</s>') for word in text_str.split() if word and word != '-']\n",
    "        return words\n",
    "                \n",
    "    def predict_ngram_log_proba(self, ngram: Tuple[str]) -> float:\n",
    "        prob = calculate_ngram_prob(ngram, self.ngrams_count, self.V, self.k)\n",
    "        return np.log(prob)\n",
    "           \n",
    "    def predict_log_proba(self, words: List[str]) -> float:\n",
    "        if self.bos:\n",
    "            words = [' BOS '] + words\n",
    "        if self.eos:\n",
    "            words = words + [' EOS ']\n",
    "        words = self.text_clean(words)\n",
    "        logprob = 0\n",
    "        for i in range(len(words)):\n",
    "            if i == 0:\n",
    "                ngram = tuple(words[i:i+1])\n",
    "            else:\n",
    "                ngram = tuple(words[max(0, i-self.order+1):i+1])\n",
    "            logprob += self.predict_ngram_log_proba(ngram)\n",
    "        return logprob\n",
    "        \n",
    "    def ppl(self, text: List[str]) -> float:\n",
    "        logprob = self.predict_log_proba(text)\n",
    "        if self.bos:\n",
    "            text = [' BOS '] + text\n",
    "        if self.eos:\n",
    "            text = text + [' EOS ']\n",
    "        processed_words = self.text_clean(text)\n",
    "        num_words = len(processed_words)\n",
    "        perplexity = np.exp(-logprob/num_words)\n",
    "        return perplexity\n"
   ]
  },
  {
   "cell_type": "code",
   "execution_count": 16,
   "id": "bb0bfe64",
   "metadata": {},
   "outputs": [
    {
     "name": "stdout",
     "output_type": "stream",
     "text": [
      "Test 1.c passed\n"
     ]
    }
   ],
   "source": [
    "def test_lm():\n",
    "    train_data = [\"по-моему мы сэкономим уйму времени если я сойду с ума прямо сейчас\",\n",
    "                  \"если я сойду с ума прямо сейчас по-моему мы сэкономим уйму времени\",\n",
    "                  \"мы сэкономим уйму времени если я сейчас сойду с ума по-моему\"]\n",
    "    global lm\n",
    "    lm = NgramLM(order=2)\n",
    "    lm.fit(train_data)\n",
    "    assert lm.V == 14\n",
    "    assert np.isclose(lm.predict_log_proba(['мы']), lm.predict_log_proba([\"если\"]))\n",
    "    assert lm.predict_log_proba([\"по-моему\"]) > lm.predict_log_proba([\"если\"]) \n",
    "    \n",
    "    gt = ((3+1)/(41 + 14) * 1/(3+14))**(-1/2)\n",
    "    ppl = lm.ppl([''])\n",
    "    assert  np.isclose(ppl, gt), f\"{ppl=} {gt=}\"\n",
    "    \n",
    "    gt = ((3+1)/(41 + 14) * 1/(3+14) * 1/(14)) ** (-1/3)\n",
    "    ppl = lm.ppl(['ЧТО'])\n",
    "    assert  np.isclose(ppl, gt), f\"{ppl=} {gt=}\"\n",
    "    \n",
    "    test_data = [\"по-моему если я прямо сейчас сойду с ума мы сэкономим уйму времени\"]\n",
    "    ppl = lm.ppl(test_data)\n",
    "    assert round(ppl, 2) == 7.33, f\"{ppl}\"\n",
    "    print(\"Test 1.c passed\")\n",
    "test_lm()"
   ]
  },
  {
   "cell_type": "markdown",
   "id": "edafa0a2",
   "metadata": {},
   "source": [
    "# 2. Предсказания с помощью языковой модели (6 балла)"
   ]
  },
  {
   "cell_type": "code",
   "execution_count": 17,
   "id": "5ed9b5e1",
   "metadata": {},
   "outputs": [],
   "source": [
    "with open('text_lab_2_1.txt') as f:\n",
    "    text = f.read()"
   ]
  },
  {
   "cell_type": "code",
   "execution_count": 18,
   "id": "1eb33bb2",
   "metadata": {},
   "outputs": [],
   "source": [
    "llm = NgramLM(order=2)\n",
    "llm.fit([text])"
   ]
  },
  {
   "cell_type": "code",
   "execution_count": 19,
   "id": "85d2eb63",
   "metadata": {},
   "outputs": [],
   "source": [
    "def predict_next_word(lm: NgramLM, prefix: str, topk=4, mode='vocab'):\n",
    "    \n",
    "    prefix_words = lm.text_clean([prefix])\n",
    "    last_word = prefix_words[-1] if prefix_words else \"\"  \n",
    "    candidates = []\n",
    "    \n",
    "    if mode == 'vocab':\n",
    "        for word in lm.vocab:\n",
    "            if word in ['<s>', '</s>'] or word == last_word:\n",
    "                continue\n",
    "            ngram = prefix_words[lm.order-1:] + [word]\n",
    "            log_prob = lm.predict_ngram_log_proba(tuple(ngram)[-lm.order:])\n",
    "            candidates.append((word, log_prob))\n",
    "    elif mode == 'ngrams':\n",
    "        for ngram in lm.ngrams_count.keys():\n",
    "            if ngram[0] in ['<s>', '</s>', 'BOS', 'EOS']:\n",
    "                continue\n",
    "            if len(ngram) >= len(prefix_words):\n",
    "                ngram = tuple(prefix_words) + ngram\n",
    "            else:\n",
    "                ngram = prefix_words[:-len(ngram)] + [ngram]\n",
    "            log_prob = lm.predict_ngram_log_proba(tuple(ngram)[-lm.order:])\n",
    "            if ngram[-1] != last_word:\n",
    "                candidates.append((ngram[-1], log_prob))\n",
    "    \n",
    "    candidates.sort(key=lambda x: x[1], reverse=True)\n",
    "    \n",
    "    seen = set()\n",
    "    result = []\n",
    "    for word, _ in candidates:\n",
    "        if word not in seen:\n",
    "            seen.add(word)\n",
    "            result.append(word)\n",
    "        if len(result) == topk:\n",
    "            break        \n",
    "    return result"
   ]
  },
  {
   "cell_type": "code",
   "execution_count": 20,
   "id": "d22a5d18",
   "metadata": {},
   "outputs": [
    {
     "name": "stdout",
     "output_type": "stream",
     "text": [
      "Предсказания (vocab): [('<s>',), ('машинное',), ('обучение',)]\n",
      "Предсказания (ngrams): ['обучение', 'сети', 'как']\n"
     ]
    }
   ],
   "source": [
    "result_vocab = predict_next_word(llm, 'Машинное', topk=3, mode='vocab')\n",
    "print(f\"Предсказания (vocab): {result_vocab}\")\n",
    "\n",
    "result_ngrams = predict_next_word(llm, 'Машинное', topk=3, mode='ngrams')\n",
    "print(f\"Предсказания (ngrams): {result_ngrams}\")\n"
   ]
  },
  {
   "cell_type": "code",
   "execution_count": 21,
   "id": "1a65a39d",
   "metadata": {},
   "outputs": [
    {
     "name": "stdout",
     "output_type": "stream",
     "text": [
      "это обучение сети машинное машинное машинное\n"
     ]
    }
   ],
   "source": [
    "text = 'это'\n",
    "for i in range(5):\n",
    "    result_ngrams = predict_next_word(llm, text, topk=1, mode='ngrams')\n",
    "    if isinstance(result_ngrams[0], tuple):\n",
    "        result_ngrams = result_ngrams[0][-1]\n",
    "    else:\n",
    "        result_ngrams = result_ngrams[0]\n",
    "    text = f\"{text} {result_ngrams}\"\n",
    "print(text)\n"
   ]
  },
  {
   "cell_type": "code",
   "execution_count": 22,
   "id": "b8e56801",
   "metadata": {},
   "outputs": [
    {
     "name": "stdout",
     "output_type": "stream",
     "text": [
      "машинное обучение <s> <s> <s> <s> <s>\n"
     ]
    }
   ],
   "source": [
    "text = 'машинное обучение'\n",
    "for i in range(5):\n",
    "    result_ngrams = predict_next_word(llm, text, topk=1, mode='vocab')\n",
    "    if isinstance(result_ngrams[0], tuple):\n",
    "        result_ngrams = result_ngrams[0][-1]\n",
    "    else:\n",
    "        result_ngrams = result_ngrams[0]\n",
    "    text = f\"{text} {result_ngrams}\"\n",
    "print(text)\n"
   ]
  },
  {
   "cell_type": "markdown",
   "id": "3fc4846b",
   "metadata": {},
   "source": [
    "Попробуйте обучить ngram языковую модель на нескольких стихотворениях. Не забудьте трансформировать стихотворение в удобный для ngram модели формат (как сделать так, чтобы модель моделировала рифму?). \n",
    "Попробуйте сгенерировать продолжение для стихотворения с помощью такой языковой модели. "
   ]
  },
  {
   "cell_type": "code",
   "execution_count": null,
   "id": "107862fe",
   "metadata": {},
   "outputs": [],
   "source": [
    "with open(\"/mnt/asr/data/punctuator_data/ru3/processed/RusPoems_train_v2.txt\") as f:\n",
    "    text = f.read()"
   ]
  },
  {
   "cell_type": "code",
   "execution_count": 25,
   "id": "5bff1b20",
   "metadata": {},
   "outputs": [],
   "source": [
    "llm = NgramLM(order=2)\n",
    "llm.fit([text])"
   ]
  },
  {
   "cell_type": "code",
   "execution_count": 26,
   "id": "9ab64e6b",
   "metadata": {},
   "outputs": [
    {
     "data": {
      "text/plain": [
       "['breaklabel', 'и', 'страдать']"
      ]
     },
     "execution_count": 26,
     "metadata": {},
     "output_type": "execute_result"
    }
   ],
   "source": [
    "predict_next_word(llm, 'Подруга', topk=3, mode='ngrams')"
   ]
  },
  {
   "cell_type": "code",
   "execution_count": 27,
   "id": "7cba8d25",
   "metadata": {},
   "outputs": [
    {
     "name": "stdout",
     "output_type": "stream",
     "text": [
      "Привет страдать мой мальчик мальчик мальчик мальчик мальчик мальчик мальчик мальчик\n"
     ]
    }
   ],
   "source": [
    "text = 'Привет'\n",
    "for i in range(10):\n",
    "    result_ngrams = predict_next_word(llm, text, topk=3, mode='ngrams')[-1]\n",
    "    if isinstance(result_ngrams, tuple):\n",
    "        result_ngrams = result_ngrams[0]\n",
    "    text = f\"{text} {result_ngrams}\"\n",
    "print(text)\n"
   ]
  },
  {
   "cell_type": "code",
   "execution_count": 28,
   "id": "83bc75c7",
   "metadata": {},
   "outputs": [
    {
     "name": "stdout",
     "output_type": "stream",
     "text": [
      "Привет страдать мой страдать мой страдать мой страдать мой страдать мой\n"
     ]
    }
   ],
   "source": [
    "text = 'Привет'\n",
    "for i in range(10):\n",
    "    result_ngrams = predict_next_word(llm, text.split(' ')[-1], topk=3, mode='ngrams')[-1]\n",
    "    if isinstance(result_ngrams, tuple):\n",
    "        result_ngrams = result_ngrams[-1]\n",
    "    text = f\"{text} {result_ngrams}\"\n",
    "print(text)"
   ]
  },
  {
   "cell_type": "code",
   "execution_count": null,
   "id": "6e127b05",
   "metadata": {},
   "outputs": [],
   "source": []
  },
  {
   "cell_type": "code",
   "execution_count": null,
   "id": "bab91a6b",
   "metadata": {},
   "outputs": [],
   "source": []
  }
 ],
 "metadata": {
  "kernelspec": {
   "display_name": "base",
   "language": "python",
   "name": "python3"
  },
  "language_info": {
   "codemirror_mode": {
    "name": "ipython",
    "version": 3
   },
   "file_extension": ".py",
   "mimetype": "text/x-python",
   "name": "python",
   "nbconvert_exporter": "python",
   "pygments_lexer": "ipython3",
   "version": "3.10.16"
  },
  "widgets": {
   "application/vnd.jupyter.widget-state+json": {
    "state": {},
    "version_major": 2,
    "version_minor": 0
   }
  }
 },
 "nbformat": 4,
 "nbformat_minor": 5
}
